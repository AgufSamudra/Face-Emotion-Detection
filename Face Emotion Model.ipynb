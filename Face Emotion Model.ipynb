{
 "cells": [
  {
   "cell_type": "code",
   "execution_count": 1,
   "id": "3d3b6117",
   "metadata": {},
   "outputs": [],
   "source": [
    "import tensorflow as tf\n",
    "from keras.preprocessing.image import ImageDataGenerator"
   ]
  },
  {
   "cell_type": "code",
   "execution_count": 2,
   "id": "494b95f3",
   "metadata": {},
   "outputs": [
    {
     "name": "stdout",
     "output_type": "stream",
     "text": [
      "Found 28709 images belonging to 7 classes.\n"
     ]
    }
   ],
   "source": [
    "train_datagen = ImageDataGenerator(rescale = 1./255,\n",
    "                                   rotation_range=35,\n",
    "                                   zoom_range=0.2,\n",
    "                                   shear_range=0.2,\n",
    "                                   horizontal_flip = True)\n",
    "training_set = train_datagen.flow_from_directory('images/train',\n",
    "                                                 target_size = (48, 48),\n",
    "                                                 batch_size = 16,\n",
    "                                                 color_mode = 'grayscale', \n",
    "                                                 class_mode = 'categorical')"
   ]
  },
  {
   "cell_type": "code",
   "execution_count": 3,
   "id": "aa3ba40f",
   "metadata": {},
   "outputs": [
    {
     "name": "stdout",
     "output_type": "stream",
     "text": [
      "Found 7178 images belonging to 7 classes.\n"
     ]
    }
   ],
   "source": [
    "test_datagen = ImageDataGenerator(rescale = 1./255)\n",
    "validation_generator = train_datagen.flow_from_directory('images/test',\n",
    "                                            target_size = (48, 48),\n",
    "                                            batch_size = 16,\n",
    "                                            color_mode = 'grayscale', \n",
    "                                            class_mode = 'categorical',)"
   ]
  },
  {
   "cell_type": "code",
   "execution_count": 4,
   "id": "903e0efc",
   "metadata": {},
   "outputs": [],
   "source": [
    "cnn = tf.keras.models.Sequential()\n",
    "\n",
    "# Layer 1\n",
    "cnn.add(tf.keras.layers.Conv2D(filters=32, kernel_size=3, activation='relu',padding='same', input_shape=[48, 48, 1]))\n",
    "cnn.add(tf.keras.layers.BatchNormalization())\n",
    "cnn.add(tf.keras.layers.MaxPool2D(pool_size=2, strides=2))\n",
    "\n",
    "# Layer 2\n",
    "cnn.add(tf.keras.layers.Conv2D(filters=32, kernel_size=3, activation='relu', padding='same'))\n",
    "cnn.add(tf.keras.layers.BatchNormalization())\n",
    "cnn.add(tf.keras.layers.MaxPool2D(pool_size=2, strides=2))\n",
    "cnn.add(tf.keras.layers.Dropout(0.2))\n",
    "\n",
    "# Layer 3\n",
    "cnn.add(tf.keras.layers.Conv2D(filters=64, kernel_size=3, activation='relu', padding='same'))\n",
    "cnn.add(tf.keras.layers.BatchNormalization())\n",
    "cnn.add(tf.keras.layers.MaxPool2D(pool_size=2, strides=2))\n",
    "\n",
    "# Layer 4\n",
    "cnn.add(tf.keras.layers.Conv2D(filters=64, kernel_size=3, activation='relu',padding='same'))\n",
    "cnn.add(tf.keras.layers.BatchNormalization())\n",
    "cnn.add(tf.keras.layers.MaxPool2D(pool_size=2, strides=2))\n",
    "cnn.add(tf.keras.layers.Dropout(0.2))\n",
    "\n",
    "cnn.add(tf.keras.layers.Flatten())\n",
    "\n",
    "cnn.add(tf.keras.layers.Dense(units=128, activation='relu'))\n",
    "cnn.add(tf.keras.layers.BatchNormalization())\n",
    "cnn.add(tf.keras.layers.Dropout(0.2))\n",
    "\n",
    "cnn.add(tf.keras.layers.Dense(units=7, activation='softmax'))"
   ]
  },
  {
   "cell_type": "code",
   "execution_count": 5,
   "id": "5de065cf",
   "metadata": {},
   "outputs": [
    {
     "name": "stderr",
     "output_type": "stream",
     "text": [
      "C:\\Users\\gufra\\anaconda3\\lib\\site-packages\\keras\\optimizer_v2\\adam.py:105: UserWarning: The `lr` argument is deprecated, use `learning_rate` instead.\n",
      "  super(Adam, self).__init__(name, **kwargs)\n"
     ]
    }
   ],
   "source": [
    "cnn.compile(optimizer = tf.keras.optimizers.Adam(lr=0.0001), loss = 'categorical_crossentropy', metrics = ['accuracy'])"
   ]
  },
  {
   "cell_type": "code",
   "execution_count": 6,
   "id": "03b8e432",
   "metadata": {},
   "outputs": [
    {
     "name": "stdout",
     "output_type": "stream",
     "text": [
      "Model: \"sequential\"\n",
      "_________________________________________________________________\n",
      " Layer (type)                Output Shape              Param #   \n",
      "=================================================================\n",
      " conv2d (Conv2D)             (None, 48, 48, 32)        320       \n",
      "                                                                 \n",
      " batch_normalization (BatchN  (None, 48, 48, 32)       128       \n",
      " ormalization)                                                   \n",
      "                                                                 \n",
      " max_pooling2d (MaxPooling2D  (None, 24, 24, 32)       0         \n",
      " )                                                               \n",
      "                                                                 \n",
      " conv2d_1 (Conv2D)           (None, 24, 24, 32)        9248      \n",
      "                                                                 \n",
      " batch_normalization_1 (Batc  (None, 24, 24, 32)       128       \n",
      " hNormalization)                                                 \n",
      "                                                                 \n",
      " max_pooling2d_1 (MaxPooling  (None, 12, 12, 32)       0         \n",
      " 2D)                                                             \n",
      "                                                                 \n",
      " dropout (Dropout)           (None, 12, 12, 32)        0         \n",
      "                                                                 \n",
      " conv2d_2 (Conv2D)           (None, 12, 12, 64)        18496     \n",
      "                                                                 \n",
      " batch_normalization_2 (Batc  (None, 12, 12, 64)       256       \n",
      " hNormalization)                                                 \n",
      "                                                                 \n",
      " max_pooling2d_2 (MaxPooling  (None, 6, 6, 64)         0         \n",
      " 2D)                                                             \n",
      "                                                                 \n",
      " conv2d_3 (Conv2D)           (None, 6, 6, 64)          36928     \n",
      "                                                                 \n",
      " batch_normalization_3 (Batc  (None, 6, 6, 64)         256       \n",
      " hNormalization)                                                 \n",
      "                                                                 \n",
      " max_pooling2d_3 (MaxPooling  (None, 3, 3, 64)         0         \n",
      " 2D)                                                             \n",
      "                                                                 \n",
      " dropout_1 (Dropout)         (None, 3, 3, 64)          0         \n",
      "                                                                 \n",
      " flatten (Flatten)           (None, 576)               0         \n",
      "                                                                 \n",
      " dense (Dense)               (None, 128)               73856     \n",
      "                                                                 \n",
      " batch_normalization_4 (Batc  (None, 128)              512       \n",
      " hNormalization)                                                 \n",
      "                                                                 \n",
      " dropout_2 (Dropout)         (None, 128)               0         \n",
      "                                                                 \n",
      " dense_1 (Dense)             (None, 7)                 903       \n",
      "                                                                 \n",
      "=================================================================\n",
      "Total params: 141,031\n",
      "Trainable params: 140,391\n",
      "Non-trainable params: 640\n",
      "_________________________________________________________________\n"
     ]
    }
   ],
   "source": [
    "cnn.summary()"
   ]
  },
  {
   "cell_type": "code",
   "execution_count": 7,
   "id": "c2f029fb",
   "metadata": {},
   "outputs": [],
   "source": [
    "class myCallback(tf.keras.callbacks.Callback):\n",
    "  def on_epoch_end(self, epoch, logs={}):\n",
    "    if(logs.get('accuracy')>0.97 and logs.get('val_accuracy')>0.94):\n",
    "      print(\"\\nSELESAI\")\n",
    "      self.model.stop_training = True\n",
    "callbacks = myCallback()"
   ]
  },
  {
   "cell_type": "code",
   "execution_count": 8,
   "id": "239db6f9",
   "metadata": {},
   "outputs": [
    {
     "name": "stdout",
     "output_type": "stream",
     "text": [
      "Epoch 1/50\n",
      "1795/1795 [==============================] - 70s 38ms/step - loss: 2.2203 - accuracy: 0.2115 - val_loss: 1.8359 - val_accuracy: 0.2857\n",
      "Epoch 2/50\n",
      "1795/1795 [==============================] - 71s 40ms/step - loss: 1.9168 - accuracy: 0.2603 - val_loss: 1.7543 - val_accuracy: 0.2970\n",
      "Epoch 3/50\n",
      "1795/1795 [==============================] - 71s 40ms/step - loss: 1.8125 - accuracy: 0.2900 - val_loss: 1.6889 - val_accuracy: 0.3355\n",
      "Epoch 4/50\n",
      "1795/1795 [==============================] - 70s 39ms/step - loss: 1.7522 - accuracy: 0.3114 - val_loss: 1.6211 - val_accuracy: 0.3663\n",
      "Epoch 5/50\n",
      "1795/1795 [==============================] - 70s 39ms/step - loss: 1.6944 - accuracy: 0.3337 - val_loss: 1.5763 - val_accuracy: 0.3858\n",
      "Epoch 6/50\n",
      "1795/1795 [==============================] - 70s 39ms/step - loss: 1.6444 - accuracy: 0.3585 - val_loss: 1.5525 - val_accuracy: 0.3994\n",
      "Epoch 7/50\n",
      "1795/1795 [==============================] - 70s 39ms/step - loss: 1.6081 - accuracy: 0.3725 - val_loss: 1.5161 - val_accuracy: 0.4100\n",
      "Epoch 8/50\n",
      "1795/1795 [==============================] - 70s 39ms/step - loss: 1.5740 - accuracy: 0.3875 - val_loss: 1.4738 - val_accuracy: 0.4317\n",
      "Epoch 9/50\n",
      "1795/1795 [==============================] - 71s 39ms/step - loss: 1.5370 - accuracy: 0.4034 - val_loss: 1.4742 - val_accuracy: 0.4202\n",
      "Epoch 10/50\n",
      "1795/1795 [==============================] - 72s 40ms/step - loss: 1.5135 - accuracy: 0.4133 - val_loss: 1.4274 - val_accuracy: 0.4564\n",
      "Epoch 11/50\n",
      "1795/1795 [==============================] - 71s 39ms/step - loss: 1.4863 - accuracy: 0.4283 - val_loss: 1.4142 - val_accuracy: 0.4604\n",
      "Epoch 12/50\n",
      "1795/1795 [==============================] - 71s 40ms/step - loss: 1.4660 - accuracy: 0.4366 - val_loss: 1.3871 - val_accuracy: 0.4670\n",
      "Epoch 13/50\n",
      "1795/1795 [==============================] - 70s 39ms/step - loss: 1.4481 - accuracy: 0.4397 - val_loss: 1.3665 - val_accuracy: 0.4726\n",
      "Epoch 14/50\n",
      "1795/1795 [==============================] - 70s 39ms/step - loss: 1.4272 - accuracy: 0.4507 - val_loss: 1.3489 - val_accuracy: 0.4870\n",
      "Epoch 15/50\n",
      "1795/1795 [==============================] - 69s 38ms/step - loss: 1.4131 - accuracy: 0.4590 - val_loss: 1.3572 - val_accuracy: 0.4802\n",
      "Epoch 16/50\n",
      "1795/1795 [==============================] - 71s 40ms/step - loss: 1.3961 - accuracy: 0.4664 - val_loss: 1.3255 - val_accuracy: 0.4887\n",
      "Epoch 17/50\n",
      "1795/1795 [==============================] - 69s 38ms/step - loss: 1.3855 - accuracy: 0.4709 - val_loss: 1.3236 - val_accuracy: 0.4943\n",
      "Epoch 18/50\n",
      "1795/1795 [==============================] - 70s 39ms/step - loss: 1.3782 - accuracy: 0.4703 - val_loss: 1.3063 - val_accuracy: 0.4890\n",
      "Epoch 19/50\n",
      "1795/1795 [==============================] - 72s 40ms/step - loss: 1.3622 - accuracy: 0.4764 - val_loss: 1.2879 - val_accuracy: 0.5086\n",
      "Epoch 20/50\n",
      "1795/1795 [==============================] - 70s 39ms/step - loss: 1.3497 - accuracy: 0.4845 - val_loss: 1.2751 - val_accuracy: 0.5088\n",
      "Epoch 21/50\n",
      "1795/1795 [==============================] - 70s 39ms/step - loss: 1.3420 - accuracy: 0.4871 - val_loss: 1.2654 - val_accuracy: 0.5150\n",
      "Epoch 22/50\n",
      "1795/1795 [==============================] - 68s 38ms/step - loss: 1.3371 - accuracy: 0.4897 - val_loss: 1.3097 - val_accuracy: 0.4863\n",
      "Epoch 23/50\n",
      "1795/1795 [==============================] - 73s 40ms/step - loss: 1.3310 - accuracy: 0.4914 - val_loss: 1.2684 - val_accuracy: 0.5164\n",
      "Epoch 24/50\n",
      "1795/1795 [==============================] - 74s 41ms/step - loss: 1.3190 - accuracy: 0.4964 - val_loss: 1.2652 - val_accuracy: 0.5191\n",
      "Epoch 25/50\n",
      "1795/1795 [==============================] - 76s 42ms/step - loss: 1.3194 - accuracy: 0.4968 - val_loss: 1.2387 - val_accuracy: 0.5302\n",
      "Epoch 26/50\n",
      "1795/1795 [==============================] - 71s 39ms/step - loss: 1.3076 - accuracy: 0.5041 - val_loss: 1.2329 - val_accuracy: 0.5267\n",
      "Epoch 27/50\n",
      "1795/1795 [==============================] - 73s 40ms/step - loss: 1.2949 - accuracy: 0.5085 - val_loss: 1.2343 - val_accuracy: 0.5291\n",
      "Epoch 28/50\n",
      "1795/1795 [==============================] - 72s 40ms/step - loss: 1.2951 - accuracy: 0.5084 - val_loss: 1.2467 - val_accuracy: 0.5240\n",
      "Epoch 29/50\n",
      "1795/1795 [==============================] - 71s 39ms/step - loss: 1.2872 - accuracy: 0.5131 - val_loss: 1.2185 - val_accuracy: 0.5364\n",
      "Epoch 30/50\n",
      "1795/1795 [==============================] - 71s 40ms/step - loss: 1.2849 - accuracy: 0.5111 - val_loss: 1.2091 - val_accuracy: 0.5322\n",
      "Epoch 31/50\n",
      "1795/1795 [==============================] - 73s 41ms/step - loss: 1.2770 - accuracy: 0.5160 - val_loss: 1.2532 - val_accuracy: 0.5170\n",
      "Epoch 32/50\n",
      "1795/1795 [==============================] - 73s 41ms/step - loss: 1.2753 - accuracy: 0.5153 - val_loss: 1.2192 - val_accuracy: 0.5305\n",
      "Epoch 33/50\n",
      "1795/1795 [==============================] - 73s 40ms/step - loss: 1.2658 - accuracy: 0.5189 - val_loss: 1.2038 - val_accuracy: 0.5396\n",
      "Epoch 34/50\n",
      "1795/1795 [==============================] - 73s 40ms/step - loss: 1.2604 - accuracy: 0.5205 - val_loss: 1.1860 - val_accuracy: 0.5472\n",
      "Epoch 35/50\n",
      "1795/1795 [==============================] - 73s 41ms/step - loss: 1.2599 - accuracy: 0.5208 - val_loss: 1.1860 - val_accuracy: 0.5468\n",
      "Epoch 36/50\n",
      "1795/1795 [==============================] - 72s 40ms/step - loss: 1.2496 - accuracy: 0.5259 - val_loss: 1.1871 - val_accuracy: 0.5450\n",
      "Epoch 37/50\n",
      "1795/1795 [==============================] - 72s 40ms/step - loss: 1.2466 - accuracy: 0.5273 - val_loss: 1.1771 - val_accuracy: 0.5545\n",
      "Epoch 38/50\n",
      "1795/1795 [==============================] - 71s 40ms/step - loss: 1.2444 - accuracy: 0.5298 - val_loss: 1.1986 - val_accuracy: 0.5437\n",
      "Epoch 39/50\n",
      "1795/1795 [==============================] - 72s 40ms/step - loss: 1.2437 - accuracy: 0.5252 - val_loss: 1.1642 - val_accuracy: 0.5581\n",
      "Epoch 40/50\n",
      "1795/1795 [==============================] - 72s 40ms/step - loss: 1.2417 - accuracy: 0.5268 - val_loss: 1.1923 - val_accuracy: 0.5467\n",
      "Epoch 41/50\n",
      "1795/1795 [==============================] - 72s 40ms/step - loss: 1.2337 - accuracy: 0.5301 - val_loss: 1.1840 - val_accuracy: 0.5545\n",
      "Epoch 42/50\n",
      "1795/1795 [==============================] - 72s 40ms/step - loss: 1.2244 - accuracy: 0.5363 - val_loss: 1.2338 - val_accuracy: 0.5265\n",
      "Epoch 43/50\n",
      "1795/1795 [==============================] - 72s 40ms/step - loss: 1.2234 - accuracy: 0.5355 - val_loss: 1.1851 - val_accuracy: 0.5449\n",
      "Epoch 44/50\n",
      "1795/1795 [==============================] - 72s 40ms/step - loss: 1.2255 - accuracy: 0.5338 - val_loss: 1.1721 - val_accuracy: 0.5557\n",
      "Epoch 45/50\n",
      "1795/1795 [==============================] - 72s 40ms/step - loss: 1.2189 - accuracy: 0.5383 - val_loss: 1.1731 - val_accuracy: 0.5490\n",
      "Epoch 46/50\n",
      "1795/1795 [==============================] - 71s 40ms/step - loss: 1.2170 - accuracy: 0.5360 - val_loss: 1.1676 - val_accuracy: 0.5584\n",
      "Epoch 47/50\n",
      "1795/1795 [==============================] - 72s 40ms/step - loss: 1.2127 - accuracy: 0.5387 - val_loss: 1.1810 - val_accuracy: 0.5524\n",
      "Epoch 48/50\n",
      "1795/1795 [==============================] - 72s 40ms/step - loss: 1.2094 - accuracy: 0.5367 - val_loss: 1.1539 - val_accuracy: 0.5550\n",
      "Epoch 49/50\n",
      "1795/1795 [==============================] - 72s 40ms/step - loss: 1.2104 - accuracy: 0.5394 - val_loss: 1.1540 - val_accuracy: 0.5598\n",
      "Epoch 50/50\n",
      "1795/1795 [==============================] - 71s 39ms/step - loss: 1.2074 - accuracy: 0.5416 - val_loss: 1.2093 - val_accuracy: 0.5453\n"
     ]
    }
   ],
   "source": [
    "model = cnn.fit(\n",
    "          training_set,\n",
    "          epochs=50,\n",
    "          validation_data=validation_generator,\n",
    "          callbacks=[callbacks]\n",
    "          )"
   ]
  },
  {
   "cell_type": "code",
   "execution_count": 9,
   "id": "e4d024c4",
   "metadata": {},
   "outputs": [],
   "source": [
    "import matplotlib.pyplot as plt"
   ]
  },
  {
   "cell_type": "code",
   "execution_count": 11,
   "id": "c1ef4ecd",
   "metadata": {},
   "outputs": [
    {
     "data": {
      "image/png": "[encoded data removed]",
      "text/plain": [
       "<Figure size 432x288 with 1 Axes>"
      ]
     },
     "metadata": {
      "needs_background": "light"
     },
     "output_type": "display_data"
    }
   ],
   "source": [
    "plt.plot(model.history['accuracy'], label='Accuracy')\n",
    "plt.plot(model.history['val_accuracy'], label='Validation Accuracy')\n",
    "plt.title('CNN Metrices (Accuracy)')\n",
    "plt.ylabel('% value')\n",
    "plt.xlabel('Epoch')\n",
    "plt.legend(loc=\"upper left\")\n",
    "plt.show()"
   ]
  },
  {
   "cell_type": "code",
   "execution_count": 12,
   "id": "12a82a1d",
   "metadata": {},
   "outputs": [
    {
     "data": {
      "image/png": "[encoded data removed]",
      "text/plain": [
       "<Figure size 432x288 with 1 Axes>"
      ]
     },
     "metadata": {
      "needs_background": "light"
     },
     "output_type": "display_data"
    }
   ],
   "source": [
    "plt.plot(model.history['loss'], label='Loss')\n",
    "plt.plot(model.history['val_loss'], label='Validation loss')\n",
    "plt.title('CNN Metrices(Loss)')\n",
    "plt.ylabel('% value')\n",
    "plt.xlabel('Epoch')\n",
    "plt.legend(loc=\"upper left\")\n",
    "plt.show()"
   ]
  },
  {
   "cell_type": "code",
   "execution_count": 14,
   "id": "bf5f1806",
   "metadata": {},
   "outputs": [],
   "source": [
    "cnn.save(\"model.h5\")"
   ]
  },
  {
   "cell_type": "code",
   "execution_count": null,
   "id": "907e7fc5",
   "metadata": {},
   "outputs": [],
   "source": []
  }
 ],
 "metadata": {
  "kernelspec": {
   "display_name": "Python 3 (ipykernel)",
   "language": "python",
   "name": "python3"
  },
  "language_info": {
   "codemirror_mode": {
    "name": "ipython",
    "version": 3
   },
   "file_extension": ".py",
   "mimetype": "text/x-python",
   "name": "python",
   "nbconvert_exporter": "python",
   "pygments_lexer": "ipython3",
   "version": "3.9.7"
  }
 },
 "nbformat": 4,
 "nbformat_minor": 5
}
